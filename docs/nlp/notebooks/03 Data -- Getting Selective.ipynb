{
 "cells": [
  {
   "cell_type": "code",
   "execution_count": 1,
   "metadata": {
    "collapsed": false
   },
   "outputs": [
    {
     "ename": "NameError",
     "evalue": "name 'collections' is not defined",
     "output_type": "error",
     "traceback": [
      "\u001b[0;31m---------------------------------------------------------------------------\u001b[0m",
      "\u001b[0;31mNameError\u001b[0m                                 Traceback (most recent call last)",
      "\u001b[0;32m<ipython-input-1-b3d36c1c1db0>\u001b[0m in \u001b[0;36m<module>\u001b[0;34m()\u001b[0m\n\u001b[1;32m     22\u001b[0m \u001b[0msys\u001b[0m\u001b[0;34m.\u001b[0m\u001b[0mpath\u001b[0m\u001b[0;34m.\u001b[0m\u001b[0mappend\u001b[0m\u001b[0;34m(\u001b[0m\u001b[0mMODELS_PATH\u001b[0m\u001b[0;34m)\u001b[0m\u001b[0;34m\u001b[0m\u001b[0m\n\u001b[1;32m     23\u001b[0m \u001b[0mtld_iana\u001b[0m \u001b[0;34m=\u001b[0m \u001b[0mpd\u001b[0m\u001b[0;34m.\u001b[0m\u001b[0mread_csv\u001b[0m\u001b[0;34m(\u001b[0m\u001b[0mos\u001b[0m\u001b[0;34m.\u001b[0m\u001b[0mpath\u001b[0m\u001b[0;34m.\u001b[0m\u001b[0mjoin\u001b[0m\u001b[0;34m(\u001b[0m\u001b[0mDATA_PATH\u001b[0m\u001b[0;34m,\u001b[0m \u001b[0;34m'tlds-from-iana.csv'\u001b[0m\u001b[0;34m)\u001b[0m\u001b[0;34m)\u001b[0m\u001b[0;34m\u001b[0m\u001b[0m\n\u001b[0;32m---> 24\u001b[0;31m tld_iana = collections.OrderedDict(sorted(zip((tld.strip().lstrip('.') for tld in tld_iana.domain),\n\u001b[0m\u001b[1;32m     25\u001b[0m                                               [(sponsor.strip(), -1) for sponsor in tld_iana.sponsor]),\n\u001b[1;32m     26\u001b[0m                                           \u001b[0mkey\u001b[0m\u001b[0;34m=\u001b[0m\u001b[0;32mlambda\u001b[0m \u001b[0mx\u001b[0m\u001b[0;34m:\u001b[0m \u001b[0mlen\u001b[0m\u001b[0;34m(\u001b[0m\u001b[0mx\u001b[0m\u001b[0;34m[\u001b[0m\u001b[0;36m0\u001b[0m\u001b[0;34m]\u001b[0m\u001b[0;34m)\u001b[0m\u001b[0;34m,\u001b[0m\u001b[0;34m\u001b[0m\u001b[0m\n",
      "\u001b[0;31mNameError\u001b[0m: name 'collections' is not defined"
     ]
    }
   ],
   "source": [
    "from __future__ import division, print_function, absolute_import\n",
    "from builtins import str\n",
    "import sys\n",
    "\n",
    "import matplotlib\n",
    "%matplotlib inline\n",
    "import pandas as pd\n",
    "from IPython.display import display, HTML \n",
    "HTML(\"<style>.container { width:100% !important; }</style>\")\n",
    "pd.set_option('display.max_rows', 6)\n",
    "pd.set_option('display.max_columns', 300)\n",
    "\n",
    "import os\n",
    "from decimal import Decimal\n",
    "from traceback import print_exc\n",
    "\n",
    "np = pd.np\n",
    "BASE_PATH = os.path.abspath(os.path.join('..', '..', '..'))\n",
    "DATA_PATH = os.path.join(BASE_PATH, 'Data')\n",
    "MODELS_PATH = os.path.join(BASE_PATH, 'Models')\n",
    "sys.path.append(DATA_PATH)\n",
    "sys.path.append(MODELS_PATH)\n",
    "tld_iana = pd.read_csv(os.path.join(DATA_PATH, 'tlds-from-iana.csv'))\n",
    "tld_iana = collections.OrderedDict(sorted(zip((tld.strip().lstrip('.') for tld in tld_iana.domain),\n",
    "                                              [(sponsor.strip(), -1) for sponsor in tld_iana.sponsor]),\n",
    "                                          key=lambda x: len(x[0]),\n",
    "                                          reverse=True))"
   ]
  },
  {
   "cell_type": "code",
   "execution_count": null,
   "metadata": {
    "collapsed": false,
    "scrolled": true
   },
   "outputs": [],
   "source": [
    "tfdf = pd.read_csv(os.path.join(DATA_PATH, 'tweet_vocab.csv.gz'), index_col=0, compression='gzip',\n",
    "                   quotechar='\"', quoting=pd.io.common.csv.QUOTE_NONNUMERIC, low_memory=False)\n",
    "tfdf.describe().round().astype(int)"
   ]
  },
  {
   "cell_type": "markdown",
   "metadata": {},
   "source": [
    "If you try to allocate a 16k word by 100k document DataFrame of 64-bit integers, you'll get a memory error on a 16 GB laptop.  \n",
    "Later we'll learn about \"constant RAM\" tools that can handle an unlimitted stream of documents with a large (1M word) vocabulary. But first let's be frugal and see what we can do with robust, mature tools like Pandas.  \n",
    "Rather than cutting back on those 100k tweets, lets cut back on the words. What are all those 16k words and how often are they all used (maybe we can ignore infrequent words).  "
   ]
  },
  {
   "cell_type": "code",
   "execution_count": null,
   "metadata": {
    "collapsed": false
   },
   "outputs": [],
   "source": [
    "GB = 8 * (100 * 1000 * len(tfdf)) / 1.e9\n",
    "GB"
   ]
  },
  {
   "cell_type": "code",
   "execution_count": null,
   "metadata": {
    "collapsed": false
   },
   "outputs": [],
   "source": [
    "tfdf"
   ]
  },
  {
   "cell_type": "markdown",
   "metadata": {},
   "source": [
    "Fortunately the odd words are at the top and bottom of an alphabetical index!  \n",
    "And it does look like the less useful tokens aren't used many times or in many documents.  \n",
    "What do you notice that might help distinguish \"natural\" words (zoom, zoos, zope, zynga) from URLs and machine-code (000, zzp, zsl107)?  "
   ]
  },
  {
   "cell_type": "code",
   "execution_count": null,
   "metadata": {
    "collapsed": false
   },
   "outputs": [],
   "source": [
    "tfdf = tfdf[tfdf.df > 9]\n",
    "tfdf = tfdf[(tfdf.df > 9) & (((tfdf.df - tfdf.tf) / tfdf.tf) < 0.15)]\n",
    "tfdf = tfdf[(tfdf.df > 20) & (((tfdf.df - tfdf.tf) / tfdf.tf) < 0.15)]\n",
    "tfdf"
   ]
  },
  {
   "cell_type": "code",
   "execution_count": null,
   "metadata": {
    "collapsed": true
   },
   "outputs": [],
   "source": [
    "Numpy arrays (guts of Pandas DataFrame) require 8 bytes for each double-precision value (int64)"
   ]
  },
  {
   "cell_type": "code",
   "execution_count": null,
   "metadata": {
    "collapsed": false
   },
   "outputs": [],
   "source": [
    "GB = 8 * (100 * 1000 * len(tfdf)) / 1.e9\n",
    "GB"
   ]
  },
  {
   "cell_type": "markdown",
   "metadata": {},
   "source": [
    "Memory requirements (4 GB) are doable  \n",
    "But we've lost important words: **\"zoom\"**  \n",
    "And there's still a bit of garbage: **\"zh3gs0wbno\"**  \n",
    "These look like keys, slugs, hashes or URLs  \n",
    "Even though the tweets.json format includes a column for URLs  \n",
    "The URLs are left within the raw text as well  \n",
    "Let's use a formal but simple grammar engine:\n",
    "\n",
    "## Extended regular expressions "
   ]
  },
  {
   "cell_type": "code",
   "execution_count": null,
   "metadata": {
    "collapsed": false
   },
   "outputs": [],
   "source": [
    "try:\n",
    "    from pug.nlp import constant\n",
    "except:\n",
    "    from Data import constant\n",
    "# constant.uri_schemes_popular = ['chrome', 'https', 'http', ]\n",
    "url_scheme_popular = r'(\\b(' + '|'.join(constant.uri_schemes_popular) + r')[:][/]{2})'\n",
    "fqdn_popular = r'(\\b[a-zA-Z0-9-.]+\\b([.]' + r'|'.join(constant.tld_popular) + r'\\b)\\b)'\n",
    "url_path = r'(\\b[\\w/?=+#-_&%~\\'\"\\\\.,]*\\b)'\n",
    "\n",
    "pd.set_option('display.max_rows', 14)\n",
    "pd.Series(constant.uri_schemes_iana)\n"
   ]
  },
  {
   "cell_type": "code",
   "execution_count": null,
   "metadata": {
    "collapsed": false
   },
   "outputs": [],
   "source": [
    "url_popular = r'(\\b' + r'(http|https|svn|git|apt)[:]//' + fqdn_popular + url_path + r'\\b)'\n",
    "tweet = \"Play the [postiive sum game](http://totalgood.com/a/b?c=42) of life instead of svn://us.gov.\"\n",
    "import re\n",
    "re.findall(url_popular, tweet)"
   ]
  },
  {
   "cell_type": "code",
   "execution_count": null,
   "metadata": {
    "collapsed": true
   },
   "outputs": [],
   "source": []
  }
 ],
 "metadata": {
  "kernelspec": {
   "display_name": "Python 3",
   "language": "python",
   "name": "python3"
  }
 },
 "nbformat": 4,
 "nbformat_minor": 0
}
